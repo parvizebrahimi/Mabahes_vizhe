{
 "cells": [
  {
   "cell_type": "code",
   "execution_count": 10,
   "id": "70e42060-cb08-4748-812c-e1b152b61294",
   "metadata": {
    "editable": true,
    "slideshow": {
     "slide_type": ""
    },
    "tags": []
   },
   "outputs": [
    {
     "name": "stdout",
     "output_type": "stream",
     "text": [
      "['amir', 20, 3.14, True]\n",
      "[20]\n",
      "[10, 'p']\n",
      "list:  [10, 'p', 3, 4]\n"
     ]
    }
   ],
   "source": [
    "a=['amir',20,3.14,True]\n",
    "print(a)\n",
    "a.pop()\n",
    "del(a[2])\n",
    "a.remove('amir')\n",
    "print(a)\n",
    "#-------------------------\n",
    "a[0]=10\n",
    "a.append('p')\n",
    "print(a)\n",
    "[1,2,3,4]+[5,6]\n",
    "a.extend([3,4])\n",
    "print('list: ',a)"
   ]
  },
  {
   "cell_type": "code",
   "execution_count": null,
   "id": "caff0369-2da7-4eda-802d-94019ef17d4d",
   "metadata": {},
   "outputs": [],
   "source": []
  }
 ],
 "metadata": {
  "kernelspec": {
   "display_name": "Python 3 (ipykernel)",
   "language": "python",
   "name": "python3"
  },
  "language_info": {
   "codemirror_mode": {
    "name": "ipython",
    "version": 3
   },
   "file_extension": ".py",
   "mimetype": "text/x-python",
   "name": "python",
   "nbconvert_exporter": "python",
   "pygments_lexer": "ipython3",
   "version": "3.10.0"
  }
 },
 "nbformat": 4,
 "nbformat_minor": 5
}
