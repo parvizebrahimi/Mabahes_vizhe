{
 "cells": [
  {
   "cell_type": "code",
   "execution_count": 1,
   "id": "1a6e309d-f5ff-410e-96a2-7af16d7fa082",
   "metadata": {},
   "outputs": [
    {
     "name": "stdout",
     "output_type": "stream",
     "text": [
      "-56.0\n"
     ]
    }
   ],
   "source": [
    "print (1+2*7/2-(8/2)**3)"
   ]
  },
  {
   "cell_type": "code",
   "execution_count": 3,
   "id": "bb9f943c-ffa8-41fa-a540-d90081c2df52",
   "metadata": {},
   "outputs": [],
   "source": [
    "#print('2'+2) خطا می دهد"
   ]
  },
  {
   "cell_type": "code",
   "execution_count": 5,
   "id": "24a8874d-eb03-4272-8349-6bbc8f0ab2d7",
   "metadata": {},
   "outputs": [
    {
     "name": "stdout",
     "output_type": "stream",
     "text": [
      "sqrt64=8.0\n",
      "sqrt80=8.94427190999916\n",
      "tan75=-0.42070095062112434\n",
      "sin60=-0.3048106211022167\n"
     ]
    }
   ],
   "source": [
    "import math as m\n",
    "x=m.sqrt(64)\n",
    "y=m.sqrt(80)\n",
    "z=m.tan(75)\n",
    "w=m.sin(60)\n",
    "print('sqrt64={}\\nsqrt80={}\\ntan75={}\\nsin60={}'.format(x,y,z,w))"
   ]
  },
  {
   "cell_type": "markdown",
   "id": "26247cf5-4e71-49a6-80ff-82fb70cd4d81",
   "metadata": {},
   "source": [
    "تفاوت پرینت و ریترن\n",
    "\n",
    "دستور پرینت هیچ وقفه ای در کار نرم افزار ایجاد نمی کند \n",
    "دستور ریترن اضلی ترین راه برای برگرداندن یک مقدار در یک تابع است \n",
    "\n",
    "techtik.com"
   ]
  },
  {
   "cell_type": "code",
   "execution_count": 10,
   "id": "8a0f7293-7af1-4ee9-87d7-9a09a7dd0d20",
   "metadata": {},
   "outputs": [
    {
     "name": "stdout",
     "output_type": "stream",
     "text": [
      "5.830951894845301\n"
     ]
    }
   ],
   "source": [
    "\n",
    "def randomname(x,y):\n",
    "    meghdar1=x**2\n",
    "    meghdar2=y**2\n",
    "    sum=meghdar1+meghdar2\n",
    "    print(m.sqrt(sum))\n",
    "\n",
    "randomname(5,3)"
   ]
  },
  {
   "cell_type": "code",
   "execution_count": 11,
   "id": "8b63f83f-5df6-4a17-8e12-e194d5102ad1",
   "metadata": {},
   "outputs": [
    {
     "name": "stdout",
     "output_type": "stream",
     "text": [
      "2.23606797749979\n"
     ]
    }
   ],
   "source": [
    "def randomname (x):\n",
    "    meghdar1=m.sin(x)\n",
    "    meghdar22=meghdar1/x\n",
    "    print(m.sqrt(x))\n",
    "randomname (5)"
   ]
  },
  {
   "cell_type": "code",
   "execution_count": 21,
   "id": "1fff37b0-6dff-4615-be47-7328052068ba",
   "metadata": {},
   "outputs": [
    {
     "name": "stdout",
     "output_type": "stream",
     "text": [
      "parvizebrahimi\n"
     ]
    }
   ],
   "source": [
    "def randomname (first,last):\n",
    "\n",
    "   print(first+last)\n",
    "    \n",
    "\n",
    "randomname('parviz','ebrahimi')\n",
    "  \n",
    "\n",
    "\n"
   ]
  },
  {
   "cell_type": "code",
   "execution_count": 30,
   "id": "508567c7-930a-44d3-abb6-051c250b02f1",
   "metadata": {},
   "outputs": [
    {
     "name": "stdout",
     "output_type": "stream",
     "text": [
      "parviz ebrahimi\n"
     ]
    }
   ],
   "source": [
    "def myname (name1, name2):\n",
    "    return name1 +\" \"+ name2\n",
    "\n",
    "first = \"parviz\"\n",
    "last = \"ebrahimi\"\n",
    "\n",
    "fullname = myname(first, last)\n",
    "print(fullname)"
   ]
  },
  {
   "cell_type": "code",
   "execution_count": null,
   "id": "5fc5d313-3251-4bab-9df1-0cbecd34c10b",
   "metadata": {},
   "outputs": [],
   "source": []
  }
 ],
 "metadata": {
  "kernelspec": {
   "display_name": "Python 3 (ipykernel)",
   "language": "python",
   "name": "python3"
  },
  "language_info": {
   "codemirror_mode": {
    "name": "ipython",
    "version": 3
   },
   "file_extension": ".py",
   "mimetype": "text/x-python",
   "name": "python",
   "nbconvert_exporter": "python",
   "pygments_lexer": "ipython3",
   "version": "3.10.0"
  }
 },
 "nbformat": 4,
 "nbformat_minor": 5
}
