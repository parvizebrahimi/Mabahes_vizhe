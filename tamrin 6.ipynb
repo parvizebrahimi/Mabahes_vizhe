{
 "cells": [
  {
   "cell_type": "markdown",
   "id": "06b84769-db94-4de9-8f63-996103757f8e",
   "metadata": {},
   "source": [
    "عملگرها برای انجام عملیات‌های ریاضی و منطقی استفاده می‌شوند، در حالی که عبارات شرطی بر اساس شرایط منطقی تصمیم‌گیری می‌کنند\n",
    "\n",
    "COPILOT منبع "
   ]
  },
  {
   "cell_type": "code",
   "execution_count": 9,
   "id": "cecf255d-e03f-418c-975a-c8028aa19663",
   "metadata": {},
   "outputs": [
    {
     "name": "stdout",
     "output_type": "stream",
     "text": [
      "adult\n",
      "\n",
      "\n",
      "120\n"
     ]
    }
   ],
   "source": [
    "myage = 20\n",
    "\n",
    "if myage < 10:\n",
    "    print(\"Child\")\n",
    "elif myage <= 18:\n",
    "    print(\"teenager\")\n",
    "else:\n",
    "    print(\"adult\")\n",
    "    \n",
    "print(\"\\n\")\n",
    "\n",
    "def factor(n):\n",
    "    if n==0:\n",
    "        return 1\n",
    "    else:\n",
    "        return n*factor(n-1)\n",
    "result = factor(5)\n",
    "print(result)"
   ]
  },
  {
   "cell_type": "code",
   "execution_count": null,
   "id": "54652231-db02-4e64-a90d-f0b270bee25b",
   "metadata": {},
   "outputs": [],
   "source": []
  }
 ],
 "metadata": {
  "kernelspec": {
   "display_name": "Python 3 (ipykernel)",
   "language": "python",
   "name": "python3"
  },
  "language_info": {
   "codemirror_mode": {
    "name": "ipython",
    "version": 3
   },
   "file_extension": ".py",
   "mimetype": "text/x-python",
   "name": "python",
   "nbconvert_exporter": "python",
   "pygments_lexer": "ipython3",
   "version": "3.10.0"
  }
 },
 "nbformat": 4,
 "nbformat_minor": 5
}
